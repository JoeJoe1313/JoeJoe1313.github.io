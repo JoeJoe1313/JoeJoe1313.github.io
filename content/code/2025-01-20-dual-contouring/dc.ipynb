{
 "cells": [
  {
   "cell_type": "code",
   "execution_count": 1,
   "metadata": {},
   "outputs": [],
   "source": [
    "import math\n",
    "import matplotlib.pyplot as plt"
   ]
  },
  {
   "cell_type": "code",
   "execution_count": null,
   "metadata": {},
   "outputs": [],
   "source": [
    "# Bounds of the grid\n",
    "XMIN = -3\n",
    "XMAX = 3\n",
    "YMIN = -3\n",
    "YMAX = 3\n",
    "# Size of single cell in grid\n",
    "CELL_SIZE = 1"
   ]
  },
  {
   "cell_type": "code",
   "execution_count": null,
   "metadata": {},
   "outputs": [],
   "source": [
    "import plotly.graph_objects as go\n",
    "import numpy as np\n",
    "\n",
    "# Create circle points\n",
    "t = np.linspace(0, 2*np.pi, 100)\n",
    "r = 2.5\n",
    "x_circle = r * np.cos(t)\n",
    "y_circle = r * np.sin(t)\n",
    "\n",
    "# Create grid points\n",
    "x_grid = np.arange(-3, 4)\n",
    "y_grid = np.arange(-3, 4)\n",
    "X, Y = np.meshgrid(x_grid, y_grid)\n",
    "\n",
    "# Create figure\n",
    "fig = go.Figure()\n",
    "\n",
    "# Add circle\n",
    "fig.add_trace(go.Scatter(\n",
    "    x=x_circle,\n",
    "    y=y_circle,\n",
    "    mode='lines',\n",
    "    name='Circle',\n",
    "    line=dict(color='blue', width=2)\n",
    "))\n",
    "\n",
    "# Add grid lines\n",
    "for x in x_grid:\n",
    "    fig.add_trace(go.Scatter(\n",
    "        x=[x, x],\n",
    "        y=[y_grid[0], y_grid[-1]],\n",
    "        mode='lines',\n",
    "        line=dict(color='gray', width=1),\n",
    "        showlegend=False\n",
    "    ))\n",
    "\n",
    "for y in y_grid:\n",
    "    fig.add_trace(go.Scatter(\n",
    "        x=[x_grid[0], x_grid[-1]],\n",
    "        y=[y, y],\n",
    "        mode='lines',\n",
    "        line=dict(color='gray', width=1),\n",
    "        showlegend=False\n",
    "    ))\n",
    "\n",
    "# Add grid points\n",
    "fig.add_trace(go.Scatter(\n",
    "    x=X.flatten(),\n",
    "    y=Y.flatten(),\n",
    "    mode='markers',\n",
    "    name='Grid Points',\n",
    "    marker=dict(color='black', size=8)\n",
    "))\n",
    "\n",
    "# Update layout\n",
    "fig.update_layout(\n",
    "    title='Circle and Grid',\n",
    "    xaxis=dict(range=[-3.5, 3.5], title='x'),\n",
    "    yaxis=dict(range=[-3.5, 3.5], title='y', scaleanchor='x'),\n",
    "    showlegend=True\n",
    ")\n",
    "\n",
    "fig.show()"
   ]
  },
  {
   "cell_type": "code",
   "execution_count": null,
   "metadata": {},
   "outputs": [],
   "source": [
    "import plotly.graph_objects as go\n",
    "import numpy as np\n",
    "\n",
    "# Create circle points\n",
    "t = np.linspace(0, 2*np.pi, 100)\n",
    "r = 2.5\n",
    "x_circle = r * np.cos(t)\n",
    "y_circle = r * np.sin(t)\n",
    "\n",
    "# Create grid points\n",
    "x_grid = np.arange(-3, 4)\n",
    "y_grid = np.arange(-3, 4)\n",
    "X, Y = np.meshgrid(x_grid, y_grid)\n",
    "\n",
    "# Separate inside/outside points\n",
    "inside_mask = X**2 + Y**2 <= r**2\n",
    "X_inside = X[inside_mask]\n",
    "Y_inside = Y[inside_mask]\n",
    "X_outside = X[~inside_mask]\n",
    "Y_outside = Y[~inside_mask]\n",
    "\n",
    "# Create figure\n",
    "fig = go.Figure()\n",
    "\n",
    "# Add circle\n",
    "fig.add_trace(go.Scatter(\n",
    "    x=x_circle,\n",
    "    y=y_circle,\n",
    "    mode='lines',\n",
    "    name='Circle',\n",
    "    line=dict(color='blue', width=2)\n",
    "))\n",
    "\n",
    "# Add grid lines\n",
    "for x in x_grid:\n",
    "    fig.add_trace(go.Scatter(\n",
    "        x=[x, x],\n",
    "        y=[y_grid[0], y_grid[-1]],\n",
    "        mode='lines',\n",
    "        line=dict(color='gray', width=1),\n",
    "        showlegend=False\n",
    "    ))\n",
    "\n",
    "for y in y_grid:\n",
    "    fig.add_trace(go.Scatter(\n",
    "        x=[x_grid[0], x_grid[-1]],\n",
    "        y=[y, y],\n",
    "        mode='lines',\n",
    "        line=dict(color='gray', width=1),\n",
    "        showlegend=False\n",
    "    ))\n",
    "\n",
    "# Add inside points\n",
    "fig.add_trace(go.Scatter(\n",
    "    x=X_inside,\n",
    "    y=Y_inside,\n",
    "    mode='markers',\n",
    "    name='Inside Points',\n",
    "    marker=dict(color='black', size=8)\n",
    "))\n",
    "\n",
    "# Add outside points\n",
    "fig.add_trace(go.Scatter(\n",
    "    x=X_outside,\n",
    "    y=Y_outside,\n",
    "    mode='markers',\n",
    "    name='Outside Points',\n",
    "    marker=dict(\n",
    "        color='white',\n",
    "        size=8,\n",
    "        line=dict(color='black', width=1)\n",
    "    )\n",
    "))\n",
    "\n",
    "# Update layout\n",
    "fig.update_layout(\n",
    "    title='Circle and Grid',\n",
    "    xaxis=dict(range=[-3.5, 3.5], title='x'),\n",
    "    yaxis=dict(range=[-3.5, 3.5], title='y', scaleanchor='x'),\n",
    "    showlegend=True,\n",
    "    # plot_bgcolor='white'\n",
    ")\n",
    "\n",
    "fig.show()"
   ]
  },
  {
   "cell_type": "code",
   "execution_count": 5,
   "metadata": {},
   "outputs": [
    {
     "data": {
      "application/vnd.plotly.v1+json": {
       "config": {
        "plotlyServerURL": "https://plot.ly"
       },
       "data": [
        {
         "line": {
          "color": "blue",
          "width": 1
         },
         "mode": "lines",
         "name": "Circle",
         "type": "scatter",
         "x": [
          2.5,
          2.494966691179711,
          2.4798870320769884,
          2.4548217431567667,
          2.4198717534908907,
          2.3751777943523638,
          2.3209198325401816,
          2.257316345716553,
          2.184623442674462,
          2.103133832077953,
          2.0131756438276467,
          1.915111107797445,
          1.8093350952626754,
          1.6962735288928306,
          1.5763816677113063,
          1.4501422739279954,
          1.318063669026256,
          1.1806776869317068,
          1.0385375325047161,
          0.8922155539796797,
          0.7423009383206873,
          0.5893973387735683,
          0.43412044416732604,
          0.27709549975252773,
          0.11895478955935546,
          -0.03966490958702007,
          -0.19812489214197135,
          -0.3557870956832131,
          -0.5120166701629768,
          -0.6661845342250876,
          -0.8176699082935541,
          -0.9658628142328217,
          -1.1101665315144353,
          -1.2500000000000004,
          -1.3848001596652757,
          -1.5140242178441672,
          -1.6371518348632128,
          -1.7536872192658035,
          -1.8631611241893866,
          -1.9651327368569689,
          -2.0591914535745817,
          -2.1449585330874426,
          -2.2220886216373086,
          -2.290271143580174,
          -2.349231551964771,
          -2.3987324340362433,
          -2.4385744672135177,
          -2.4685972216909855,
          -2.4886798064327116,
          -2.4987413559579625,
          -2.4987413559579625,
          -2.4886798064327116,
          -2.4685972216909855,
          -2.4385744672135177,
          -2.3987324340362433,
          -2.3492315519647713,
          -2.290271143580174,
          -2.2220886216373086,
          -2.1449585330874426,
          -2.059191453574582,
          -1.9651327368569684,
          -1.863161124189387,
          -1.753687219265803,
          -1.637151834863213,
          -1.5140242178441665,
          -1.3848001596652761,
          -1.2499999999999991,
          -1.110166531514435,
          -0.9658628142328217,
          -0.8176699082935547,
          -0.6661845342250866,
          -0.5120166701629764,
          -0.3557870956832131,
          -0.198124892141972,
          -0.03966490958701902,
          0.11895478955935596,
          0.2770954997525272,
          0.4341204441673249,
          0.5893973387735687,
          0.7423009383206871,
          0.8922155539796792,
          1.038537532504717,
          1.1806776869317073,
          1.318063669026256,
          1.4501422739279948,
          1.5763816677113072,
          1.6962735288928308,
          1.8093350952626752,
          1.9151111077974445,
          2.013175643827647,
          2.103133832077953,
          2.184623442674462,
          2.2573163457165526,
          2.3209198325401816,
          2.3751777943523638,
          2.4198717534908907,
          2.454821743156767,
          2.4798870320769884,
          2.494966691179711,
          2.5
         ],
         "y": [
          0,
          0.15855979914141127,
          0.31648113393437316,
          0.4731281109010255,
          0.627869967952698,
          0.7800836142462176,
          0.929156139150819,
          1.074487280222929,
          1.2154918402511719,
          1.351602043638994,
          1.4822698226366011,
          1.6069690242163481,
          1.72519752870528,
          1.8364792716438334,
          1.940366160729392,
          2.0364398801258394,
          2.124313574873786,
          2.203633408618955,
          2.274079988386296,
          2.335369650662767,
          2.3872556036101846,
          2.429528920808854,
          2.46201938253052,
          2.484596161153135,
          2.49716834795752,
          2.4996853191846875,
          2.492136939879856,
          2.4745536047023315,
          2.4470061155369467,
          2.409605396399855,
          2.362502046786671,
          2.3058857352614535,
          2.23998443572834,
          2.1650635094610964,
          2.0814246365869287,
          1.98940460132708,
          1.8893739358856456,
          1.7817354284471572,
          1.666922501290729,
          1.5453974655515128,
          1.4176496596569272,
          1.2841934789335157,
          1.1455663043185262,
          1.002326338516534,
          0.8550503583141722,
          0.7043313921035742,
          0.550776331966352,
          0.39500348993337475,
          0.2376401082604561,
          0.07931983374516914,
          -0.07931983374516964,
          -0.23764010826045656,
          -0.3950034899333752,
          -0.5507763319663515,
          -0.7043313921035745,
          -0.8550503583141716,
          -1.0023263385165344,
          -1.1455663043185258,
          -1.284193478933516,
          -1.4176496596569266,
          -1.5453974655515132,
          -1.6669225012907287,
          -1.7817354284471574,
          -1.8893739358856454,
          -1.9894046013270803,
          -2.0814246365869282,
          -2.1650635094610973,
          -2.23998443572834,
          -2.3058857352614535,
          -2.3625020467866706,
          -2.409605396399855,
          -2.4470061155369467,
          -2.4745536047023315,
          -2.4921369398798556,
          -2.4996853191846875,
          -2.49716834795752,
          -2.484596161153135,
          -2.4620193825305203,
          -2.429528920808854,
          -2.3872556036101846,
          -2.335369650662767,
          -2.2740799883862954,
          -2.203633408618955,
          -2.124313574873786,
          -2.0364398801258394,
          -1.9403661607293916,
          -1.836479271643833,
          -1.72519752870528,
          -1.606969024216349,
          -1.4822698226366005,
          -1.351602043638994,
          -1.215491840251172,
          -1.0744872802229297,
          -0.9291561391508181,
          -0.7800836142462176,
          -0.6278699679526984,
          -0.47312811090102436,
          -0.3164811339343726,
          -0.1585597991414113,
          -6.123233995736766e-16
         ]
        },
        {
         "line": {
          "color": "gray",
          "width": 1
         },
         "mode": "lines",
         "showlegend": false,
         "type": "scatter",
         "x": [
          -3,
          -3
         ],
         "y": [
          -3,
          3
         ]
        },
        {
         "line": {
          "color": "gray",
          "width": 1
         },
         "mode": "lines",
         "showlegend": false,
         "type": "scatter",
         "x": [
          -2,
          -2
         ],
         "y": [
          -3,
          3
         ]
        },
        {
         "line": {
          "color": "gray",
          "width": 1
         },
         "mode": "lines",
         "showlegend": false,
         "type": "scatter",
         "x": [
          -1,
          -1
         ],
         "y": [
          -3,
          3
         ]
        },
        {
         "line": {
          "color": "gray",
          "width": 1
         },
         "mode": "lines",
         "showlegend": false,
         "type": "scatter",
         "x": [
          0,
          0
         ],
         "y": [
          -3,
          3
         ]
        },
        {
         "line": {
          "color": "gray",
          "width": 1
         },
         "mode": "lines",
         "showlegend": false,
         "type": "scatter",
         "x": [
          1,
          1
         ],
         "y": [
          -3,
          3
         ]
        },
        {
         "line": {
          "color": "gray",
          "width": 1
         },
         "mode": "lines",
         "showlegend": false,
         "type": "scatter",
         "x": [
          2,
          2
         ],
         "y": [
          -3,
          3
         ]
        },
        {
         "line": {
          "color": "gray",
          "width": 1
         },
         "mode": "lines",
         "showlegend": false,
         "type": "scatter",
         "x": [
          3,
          3
         ],
         "y": [
          -3,
          3
         ]
        },
        {
         "line": {
          "color": "gray",
          "width": 1
         },
         "mode": "lines",
         "showlegend": false,
         "type": "scatter",
         "x": [
          -3,
          3
         ],
         "y": [
          -3,
          -3
         ]
        },
        {
         "line": {
          "color": "gray",
          "width": 1
         },
         "mode": "lines",
         "showlegend": false,
         "type": "scatter",
         "x": [
          -3,
          3
         ],
         "y": [
          -2,
          -2
         ]
        },
        {
         "line": {
          "color": "gray",
          "width": 1
         },
         "mode": "lines",
         "showlegend": false,
         "type": "scatter",
         "x": [
          -3,
          3
         ],
         "y": [
          -1,
          -1
         ]
        },
        {
         "line": {
          "color": "gray",
          "width": 1
         },
         "mode": "lines",
         "showlegend": false,
         "type": "scatter",
         "x": [
          -3,
          3
         ],
         "y": [
          0,
          0
         ]
        },
        {
         "line": {
          "color": "gray",
          "width": 1
         },
         "mode": "lines",
         "showlegend": false,
         "type": "scatter",
         "x": [
          -3,
          3
         ],
         "y": [
          1,
          1
         ]
        },
        {
         "line": {
          "color": "gray",
          "width": 1
         },
         "mode": "lines",
         "showlegend": false,
         "type": "scatter",
         "x": [
          -3,
          3
         ],
         "y": [
          2,
          2
         ]
        },
        {
         "line": {
          "color": "gray",
          "width": 1
         },
         "mode": "lines",
         "showlegend": false,
         "type": "scatter",
         "x": [
          -3,
          3
         ],
         "y": [
          3,
          3
         ]
        },
        {
         "marker": {
          "color": "black",
          "size": 8
         },
         "mode": "markers",
         "name": "Inside Points",
         "type": "scatter",
         "x": [
          -1,
          0,
          1,
          -2,
          -1,
          0,
          1,
          2,
          -2,
          -1,
          0,
          1,
          2,
          -2,
          -1,
          0,
          1,
          2,
          -1,
          0,
          1
         ],
         "y": [
          -2,
          -2,
          -2,
          -1,
          -1,
          -1,
          -1,
          -1,
          0,
          0,
          0,
          0,
          0,
          1,
          1,
          1,
          1,
          1,
          2,
          2,
          2
         ]
        },
        {
         "marker": {
          "color": "white",
          "line": {
           "color": "black",
           "width": 1
          },
          "size": 8
         },
         "mode": "markers",
         "name": "Outside Points",
         "type": "scatter",
         "x": [
          -3,
          -2,
          -1,
          0,
          1,
          2,
          3,
          -3,
          -2,
          2,
          3,
          -3,
          3,
          -3,
          3,
          -3,
          3,
          -3,
          -2,
          2,
          3,
          -3,
          -2,
          -1,
          0,
          1,
          2,
          3
         ],
         "y": [
          -3,
          -3,
          -3,
          -3,
          -3,
          -3,
          -3,
          -2,
          -2,
          -2,
          -2,
          -1,
          -1,
          0,
          0,
          1,
          1,
          2,
          2,
          2,
          2,
          3,
          3,
          3,
          3,
          3,
          3,
          3
         ]
        },
        {
         "marker": {
          "color": "green",
          "size": 5,
          "symbol": "circle"
         },
         "mode": "markers",
         "name": "Intersections",
         "type": "scatter",
         "x": [
          -2,
          -2,
          -1,
          -1,
          0,
          0,
          1,
          1,
          2,
          2,
          1.5,
          -1.5,
          2.29128784747792,
          -2.29128784747792,
          2.5,
          -2.5,
          2.29128784747792,
          -2.29128784747792,
          1.5,
          -1.5
         ],
         "y": [
          1.5,
          -1.5,
          2.29128784747792,
          -2.29128784747792,
          2.5,
          -2.5,
          2.29128784747792,
          -2.29128784747792,
          1.5,
          -1.5,
          -2,
          -2,
          -1,
          -1,
          0,
          0,
          1,
          1,
          2,
          2
         ]
        }
       ],
       "layout": {
        "height": 600,
        "showlegend": true,
        "template": {
         "data": {
          "bar": [
           {
            "error_x": {
             "color": "#2a3f5f"
            },
            "error_y": {
             "color": "#2a3f5f"
            },
            "marker": {
             "line": {
              "color": "#E5ECF6",
              "width": 0.5
             },
             "pattern": {
              "fillmode": "overlay",
              "size": 10,
              "solidity": 0.2
             }
            },
            "type": "bar"
           }
          ],
          "barpolar": [
           {
            "marker": {
             "line": {
              "color": "#E5ECF6",
              "width": 0.5
             },
             "pattern": {
              "fillmode": "overlay",
              "size": 10,
              "solidity": 0.2
             }
            },
            "type": "barpolar"
           }
          ],
          "carpet": [
           {
            "aaxis": {
             "endlinecolor": "#2a3f5f",
             "gridcolor": "white",
             "linecolor": "white",
             "minorgridcolor": "white",
             "startlinecolor": "#2a3f5f"
            },
            "baxis": {
             "endlinecolor": "#2a3f5f",
             "gridcolor": "white",
             "linecolor": "white",
             "minorgridcolor": "white",
             "startlinecolor": "#2a3f5f"
            },
            "type": "carpet"
           }
          ],
          "choropleth": [
           {
            "colorbar": {
             "outlinewidth": 0,
             "ticks": ""
            },
            "type": "choropleth"
           }
          ],
          "contour": [
           {
            "colorbar": {
             "outlinewidth": 0,
             "ticks": ""
            },
            "colorscale": [
             [
              0,
              "#0d0887"
             ],
             [
              0.1111111111111111,
              "#46039f"
             ],
             [
              0.2222222222222222,
              "#7201a8"
             ],
             [
              0.3333333333333333,
              "#9c179e"
             ],
             [
              0.4444444444444444,
              "#bd3786"
             ],
             [
              0.5555555555555556,
              "#d8576b"
             ],
             [
              0.6666666666666666,
              "#ed7953"
             ],
             [
              0.7777777777777778,
              "#fb9f3a"
             ],
             [
              0.8888888888888888,
              "#fdca26"
             ],
             [
              1,
              "#f0f921"
             ]
            ],
            "type": "contour"
           }
          ],
          "contourcarpet": [
           {
            "colorbar": {
             "outlinewidth": 0,
             "ticks": ""
            },
            "type": "contourcarpet"
           }
          ],
          "heatmap": [
           {
            "colorbar": {
             "outlinewidth": 0,
             "ticks": ""
            },
            "colorscale": [
             [
              0,
              "#0d0887"
             ],
             [
              0.1111111111111111,
              "#46039f"
             ],
             [
              0.2222222222222222,
              "#7201a8"
             ],
             [
              0.3333333333333333,
              "#9c179e"
             ],
             [
              0.4444444444444444,
              "#bd3786"
             ],
             [
              0.5555555555555556,
              "#d8576b"
             ],
             [
              0.6666666666666666,
              "#ed7953"
             ],
             [
              0.7777777777777778,
              "#fb9f3a"
             ],
             [
              0.8888888888888888,
              "#fdca26"
             ],
             [
              1,
              "#f0f921"
             ]
            ],
            "type": "heatmap"
           }
          ],
          "heatmapgl": [
           {
            "colorbar": {
             "outlinewidth": 0,
             "ticks": ""
            },
            "colorscale": [
             [
              0,
              "#0d0887"
             ],
             [
              0.1111111111111111,
              "#46039f"
             ],
             [
              0.2222222222222222,
              "#7201a8"
             ],
             [
              0.3333333333333333,
              "#9c179e"
             ],
             [
              0.4444444444444444,
              "#bd3786"
             ],
             [
              0.5555555555555556,
              "#d8576b"
             ],
             [
              0.6666666666666666,
              "#ed7953"
             ],
             [
              0.7777777777777778,
              "#fb9f3a"
             ],
             [
              0.8888888888888888,
              "#fdca26"
             ],
             [
              1,
              "#f0f921"
             ]
            ],
            "type": "heatmapgl"
           }
          ],
          "histogram": [
           {
            "marker": {
             "pattern": {
              "fillmode": "overlay",
              "size": 10,
              "solidity": 0.2
             }
            },
            "type": "histogram"
           }
          ],
          "histogram2d": [
           {
            "colorbar": {
             "outlinewidth": 0,
             "ticks": ""
            },
            "colorscale": [
             [
              0,
              "#0d0887"
             ],
             [
              0.1111111111111111,
              "#46039f"
             ],
             [
              0.2222222222222222,
              "#7201a8"
             ],
             [
              0.3333333333333333,
              "#9c179e"
             ],
             [
              0.4444444444444444,
              "#bd3786"
             ],
             [
              0.5555555555555556,
              "#d8576b"
             ],
             [
              0.6666666666666666,
              "#ed7953"
             ],
             [
              0.7777777777777778,
              "#fb9f3a"
             ],
             [
              0.8888888888888888,
              "#fdca26"
             ],
             [
              1,
              "#f0f921"
             ]
            ],
            "type": "histogram2d"
           }
          ],
          "histogram2dcontour": [
           {
            "colorbar": {
             "outlinewidth": 0,
             "ticks": ""
            },
            "colorscale": [
             [
              0,
              "#0d0887"
             ],
             [
              0.1111111111111111,
              "#46039f"
             ],
             [
              0.2222222222222222,
              "#7201a8"
             ],
             [
              0.3333333333333333,
              "#9c179e"
             ],
             [
              0.4444444444444444,
              "#bd3786"
             ],
             [
              0.5555555555555556,
              "#d8576b"
             ],
             [
              0.6666666666666666,
              "#ed7953"
             ],
             [
              0.7777777777777778,
              "#fb9f3a"
             ],
             [
              0.8888888888888888,
              "#fdca26"
             ],
             [
              1,
              "#f0f921"
             ]
            ],
            "type": "histogram2dcontour"
           }
          ],
          "mesh3d": [
           {
            "colorbar": {
             "outlinewidth": 0,
             "ticks": ""
            },
            "type": "mesh3d"
           }
          ],
          "parcoords": [
           {
            "line": {
             "colorbar": {
              "outlinewidth": 0,
              "ticks": ""
             }
            },
            "type": "parcoords"
           }
          ],
          "pie": [
           {
            "automargin": true,
            "type": "pie"
           }
          ],
          "scatter": [
           {
            "fillpattern": {
             "fillmode": "overlay",
             "size": 10,
             "solidity": 0.2
            },
            "type": "scatter"
           }
          ],
          "scatter3d": [
           {
            "line": {
             "colorbar": {
              "outlinewidth": 0,
              "ticks": ""
             }
            },
            "marker": {
             "colorbar": {
              "outlinewidth": 0,
              "ticks": ""
             }
            },
            "type": "scatter3d"
           }
          ],
          "scattercarpet": [
           {
            "marker": {
             "colorbar": {
              "outlinewidth": 0,
              "ticks": ""
             }
            },
            "type": "scattercarpet"
           }
          ],
          "scattergeo": [
           {
            "marker": {
             "colorbar": {
              "outlinewidth": 0,
              "ticks": ""
             }
            },
            "type": "scattergeo"
           }
          ],
          "scattergl": [
           {
            "marker": {
             "colorbar": {
              "outlinewidth": 0,
              "ticks": ""
             }
            },
            "type": "scattergl"
           }
          ],
          "scattermapbox": [
           {
            "marker": {
             "colorbar": {
              "outlinewidth": 0,
              "ticks": ""
             }
            },
            "type": "scattermapbox"
           }
          ],
          "scatterpolar": [
           {
            "marker": {
             "colorbar": {
              "outlinewidth": 0,
              "ticks": ""
             }
            },
            "type": "scatterpolar"
           }
          ],
          "scatterpolargl": [
           {
            "marker": {
             "colorbar": {
              "outlinewidth": 0,
              "ticks": ""
             }
            },
            "type": "scatterpolargl"
           }
          ],
          "scatterternary": [
           {
            "marker": {
             "colorbar": {
              "outlinewidth": 0,
              "ticks": ""
             }
            },
            "type": "scatterternary"
           }
          ],
          "surface": [
           {
            "colorbar": {
             "outlinewidth": 0,
             "ticks": ""
            },
            "colorscale": [
             [
              0,
              "#0d0887"
             ],
             [
              0.1111111111111111,
              "#46039f"
             ],
             [
              0.2222222222222222,
              "#7201a8"
             ],
             [
              0.3333333333333333,
              "#9c179e"
             ],
             [
              0.4444444444444444,
              "#bd3786"
             ],
             [
              0.5555555555555556,
              "#d8576b"
             ],
             [
              0.6666666666666666,
              "#ed7953"
             ],
             [
              0.7777777777777778,
              "#fb9f3a"
             ],
             [
              0.8888888888888888,
              "#fdca26"
             ],
             [
              1,
              "#f0f921"
             ]
            ],
            "type": "surface"
           }
          ],
          "table": [
           {
            "cells": {
             "fill": {
              "color": "#EBF0F8"
             },
             "line": {
              "color": "white"
             }
            },
            "header": {
             "fill": {
              "color": "#C8D4E3"
             },
             "line": {
              "color": "white"
             }
            },
            "type": "table"
           }
          ]
         },
         "layout": {
          "annotationdefaults": {
           "arrowcolor": "#2a3f5f",
           "arrowhead": 0,
           "arrowwidth": 1
          },
          "autotypenumbers": "strict",
          "coloraxis": {
           "colorbar": {
            "outlinewidth": 0,
            "ticks": ""
           }
          },
          "colorscale": {
           "diverging": [
            [
             0,
             "#8e0152"
            ],
            [
             0.1,
             "#c51b7d"
            ],
            [
             0.2,
             "#de77ae"
            ],
            [
             0.3,
             "#f1b6da"
            ],
            [
             0.4,
             "#fde0ef"
            ],
            [
             0.5,
             "#f7f7f7"
            ],
            [
             0.6,
             "#e6f5d0"
            ],
            [
             0.7,
             "#b8e186"
            ],
            [
             0.8,
             "#7fbc41"
            ],
            [
             0.9,
             "#4d9221"
            ],
            [
             1,
             "#276419"
            ]
           ],
           "sequential": [
            [
             0,
             "#0d0887"
            ],
            [
             0.1111111111111111,
             "#46039f"
            ],
            [
             0.2222222222222222,
             "#7201a8"
            ],
            [
             0.3333333333333333,
             "#9c179e"
            ],
            [
             0.4444444444444444,
             "#bd3786"
            ],
            [
             0.5555555555555556,
             "#d8576b"
            ],
            [
             0.6666666666666666,
             "#ed7953"
            ],
            [
             0.7777777777777778,
             "#fb9f3a"
            ],
            [
             0.8888888888888888,
             "#fdca26"
            ],
            [
             1,
             "#f0f921"
            ]
           ],
           "sequentialminus": [
            [
             0,
             "#0d0887"
            ],
            [
             0.1111111111111111,
             "#46039f"
            ],
            [
             0.2222222222222222,
             "#7201a8"
            ],
            [
             0.3333333333333333,
             "#9c179e"
            ],
            [
             0.4444444444444444,
             "#bd3786"
            ],
            [
             0.5555555555555556,
             "#d8576b"
            ],
            [
             0.6666666666666666,
             "#ed7953"
            ],
            [
             0.7777777777777778,
             "#fb9f3a"
            ],
            [
             0.8888888888888888,
             "#fdca26"
            ],
            [
             1,
             "#f0f921"
            ]
           ]
          },
          "colorway": [
           "#636efa",
           "#EF553B",
           "#00cc96",
           "#ab63fa",
           "#FFA15A",
           "#19d3f3",
           "#FF6692",
           "#B6E880",
           "#FF97FF",
           "#FECB52"
          ],
          "font": {
           "color": "#2a3f5f"
          },
          "geo": {
           "bgcolor": "white",
           "lakecolor": "white",
           "landcolor": "#E5ECF6",
           "showlakes": true,
           "showland": true,
           "subunitcolor": "white"
          },
          "hoverlabel": {
           "align": "left"
          },
          "hovermode": "closest",
          "mapbox": {
           "style": "light"
          },
          "paper_bgcolor": "white",
          "plot_bgcolor": "#E5ECF6",
          "polar": {
           "angularaxis": {
            "gridcolor": "white",
            "linecolor": "white",
            "ticks": ""
           },
           "bgcolor": "#E5ECF6",
           "radialaxis": {
            "gridcolor": "white",
            "linecolor": "white",
            "ticks": ""
           }
          },
          "scene": {
           "xaxis": {
            "backgroundcolor": "#E5ECF6",
            "gridcolor": "white",
            "gridwidth": 2,
            "linecolor": "white",
            "showbackground": true,
            "ticks": "",
            "zerolinecolor": "white"
           },
           "yaxis": {
            "backgroundcolor": "#E5ECF6",
            "gridcolor": "white",
            "gridwidth": 2,
            "linecolor": "white",
            "showbackground": true,
            "ticks": "",
            "zerolinecolor": "white"
           },
           "zaxis": {
            "backgroundcolor": "#E5ECF6",
            "gridcolor": "white",
            "gridwidth": 2,
            "linecolor": "white",
            "showbackground": true,
            "ticks": "",
            "zerolinecolor": "white"
           }
          },
          "shapedefaults": {
           "line": {
            "color": "#2a3f5f"
           }
          },
          "ternary": {
           "aaxis": {
            "gridcolor": "white",
            "linecolor": "white",
            "ticks": ""
           },
           "baxis": {
            "gridcolor": "white",
            "linecolor": "white",
            "ticks": ""
           },
           "bgcolor": "#E5ECF6",
           "caxis": {
            "gridcolor": "white",
            "linecolor": "white",
            "ticks": ""
           }
          },
          "title": {
           "x": 0.05
          },
          "xaxis": {
           "automargin": true,
           "gridcolor": "white",
           "linecolor": "white",
           "ticks": "",
           "title": {
            "standoff": 15
           },
           "zerolinecolor": "white",
           "zerolinewidth": 2
          },
          "yaxis": {
           "automargin": true,
           "gridcolor": "white",
           "linecolor": "white",
           "ticks": "",
           "title": {
            "standoff": 15
           },
           "zerolinecolor": "white",
           "zerolinewidth": 2
          }
         }
        },
        "width": 600,
        "xaxis": {
         "constrain": "domain",
         "range": [
          -3.5,
          3.5
         ],
         "title": {
          "text": "x"
         }
        },
        "yaxis": {
         "constrain": "domain",
         "range": [
          -3.5,
          3.5
         ],
         "scaleanchor": "x",
         "scaleratio": 1,
         "title": {
          "text": "y"
         }
        }
       }
      }
     },
     "metadata": {},
     "output_type": "display_data"
    }
   ],
   "source": [
    "import plotly.graph_objects as go\n",
    "import numpy as np\n",
    "\n",
    "# Create circle points\n",
    "t = np.linspace(0, 2*np.pi, 100)\n",
    "r = 2.5\n",
    "x_circle = r * np.cos(t)\n",
    "y_circle = r * np.sin(t)\n",
    "\n",
    "# Create grid points\n",
    "x_grid = np.arange(-3, 4)\n",
    "y_grid = np.arange(-3, 4)\n",
    "X, Y = np.meshgrid(x_grid, y_grid)\n",
    "\n",
    "# Find intersection points\n",
    "intersections_x = []\n",
    "intersections_y = []\n",
    "\n",
    "# Vertical line intersections\n",
    "for x in x_grid:\n",
    "    if abs(x) <= r:\n",
    "        y = np.sqrt(r**2 - x**2)\n",
    "        intersections_x.extend([x, x])\n",
    "        intersections_y.extend([y, -y])\n",
    "\n",
    "# Horizontal line intersections\n",
    "for y in y_grid:\n",
    "    if abs(y) <= r:\n",
    "        x = np.sqrt(r**2 - y**2)\n",
    "        intersections_x.extend([x, -x])\n",
    "        intersections_y.extend([y, y])\n",
    "\n",
    "# Separate inside/outside points\n",
    "inside_mask = X**2 + Y**2 <= r**2\n",
    "X_inside = X[inside_mask]\n",
    "Y_inside = Y[inside_mask]\n",
    "X_outside = X[~inside_mask]\n",
    "Y_outside = Y[~inside_mask]\n",
    "\n",
    "# Create figure\n",
    "fig = go.Figure()\n",
    "\n",
    "# Add circle\n",
    "fig.add_trace(go.Scatter(\n",
    "    x=x_circle,\n",
    "    y=y_circle,\n",
    "    mode='lines',\n",
    "    name='Circle',\n",
    "    line=dict(color='blue', width=1)\n",
    "))\n",
    "\n",
    "# Add grid lines\n",
    "for x in x_grid:\n",
    "    fig.add_trace(go.Scatter(\n",
    "        x=[x, x],\n",
    "        y=[y_grid[0], y_grid[-1]],\n",
    "        mode='lines',\n",
    "        line=dict(color='gray', width=1),\n",
    "        showlegend=False\n",
    "    ))\n",
    "\n",
    "for y in y_grid:\n",
    "    fig.add_trace(go.Scatter(\n",
    "        x=[x_grid[0], x_grid[-1]],\n",
    "        y=[y, y],\n",
    "        mode='lines',\n",
    "        line=dict(color='gray', width=1),\n",
    "        showlegend=False\n",
    "    ))\n",
    "\n",
    "# Add inside points\n",
    "fig.add_trace(go.Scatter(\n",
    "    x=X_inside,\n",
    "    y=Y_inside,\n",
    "    mode='markers',\n",
    "    name='Inside Points',\n",
    "    marker=dict(color='black', size=8)\n",
    "))\n",
    "\n",
    "# Add outside points\n",
    "fig.add_trace(go.Scatter(\n",
    "    x=X_outside,\n",
    "    y=Y_outside,\n",
    "    mode='markers',\n",
    "    name='Outside Points',\n",
    "    marker=dict(\n",
    "        color='white',\n",
    "        size=8,\n",
    "        line=dict(color='black', width=1)\n",
    "    )\n",
    "))\n",
    "\n",
    "# Add intersection points\n",
    "fig.add_trace(go.Scatter(\n",
    "    x=intersections_x,\n",
    "    y=intersections_y,\n",
    "    mode='markers',\n",
    "    name='Intersections',\n",
    "    marker=dict(color='green', size=5, symbol='circle')\n",
    "))\n",
    "\n",
    "# Update layout\n",
    "fig.update_layout(\n",
    "    # title='Circle and Grid',\n",
    "    width=600,  # Fixed width\n",
    "    height=600,  # Equal height for 1:1 aspect ratio\n",
    "    xaxis=dict(\n",
    "        range=[-3.5, 3.5],\n",
    "        title='x',\n",
    "        constrain='domain'  # Constrain to exact range\n",
    "    ),\n",
    "    yaxis=dict(\n",
    "        range=[-3.5, 3.5],\n",
    "        title='y',\n",
    "        scaleanchor='x',\n",
    "        scaleratio=1,\n",
    "        constrain='domain'  # Constrain to exact range\n",
    "    ),\n",
    "    showlegend=True,\n",
    "    # plot_bgcolor='white'\n",
    ")\n",
    "# fig.write_image(f\"circle_grid.png\")\n",
    "fig.write_image(\n",
    "    f\"circle_grid.png\",\n",
    "    width=600,\n",
    "    height=600,\n",
    "    scale=2,  # Retina display\n",
    "    engine=\"kaleido\"\n",
    ")\n",
    "fig.show()"
   ]
  },
  {
   "cell_type": "code",
   "execution_count": null,
   "metadata": {},
   "outputs": [],
   "source": [
    "# Create circle points\n",
    "t = np.linspace(0, 2*np.pi, 100)\n",
    "r = 2.5\n",
    "x_circle = r * np.cos(t)\n",
    "y_circle = r * np.sin(t)\n",
    "\n",
    "# Create grid points\n",
    "x_grid = np.arange(-3, 4)\n",
    "y_grid = np.arange(-3, 4)\n",
    "X, Y = np.meshgrid(x_grid, y_grid)\n",
    "\n",
    "# Find intersection points\n",
    "intersections_x = []\n",
    "intersections_y = []\n",
    "\n",
    "# Vertical line intersections\n",
    "for x in x_grid:\n",
    "    if abs(x) <= r:\n",
    "        y = np.sqrt(r**2 - x**2)\n",
    "        intersections_x.extend([x, x])\n",
    "        intersections_y.extend([y, -y])\n",
    "\n",
    "# Horizontal line intersections\n",
    "for y in y_grid:\n",
    "    if abs(y) <= r:\n",
    "        x = np.sqrt(r**2 - y**2)\n",
    "        intersections_x.extend([x, -x])\n",
    "        intersections_y.extend([y, y])\n",
    "\n",
    "# Separate inside/outside points\n",
    "inside_mask = X**2 + Y**2 <= r**2\n",
    "X_inside = X[inside_mask]\n",
    "Y_inside = Y[inside_mask]\n",
    "X_outside = X[~inside_mask]\n",
    "Y_outside = Y[~inside_mask]\n",
    "\n",
    "# Create figure\n",
    "fig = go.Figure()\n",
    "\n",
    "# Add circle\n",
    "fig.add_trace(go.Scatter(\n",
    "    x=x_circle,\n",
    "    y=y_circle,\n",
    "    mode='lines',\n",
    "    name='Circle',\n",
    "    line=dict(color='blue', width=1)\n",
    "))\n",
    "\n",
    "# Add grid lines\n",
    "for x in x_grid:\n",
    "    fig.add_trace(go.Scatter(\n",
    "        x=[x, x],\n",
    "        y=[y_grid[0], y_grid[-1]],\n",
    "        mode='lines',\n",
    "        line=dict(color='gray', width=1),\n",
    "        showlegend=False\n",
    "    ))\n",
    "\n",
    "for y in y_grid:\n",
    "    fig.add_trace(go.Scatter(\n",
    "        x=[x_grid[0], x_grid[-1]],\n",
    "        y=[y, y],\n",
    "        mode='lines',\n",
    "        line=dict(color='gray', width=1),\n",
    "        showlegend=False\n",
    "    ))\n",
    "\n",
    "# Add inside points\n",
    "fig.add_trace(go.Scatter(\n",
    "    x=X_inside,\n",
    "    y=Y_inside,\n",
    "    mode='markers',\n",
    "    name='Inside Points',\n",
    "    marker=dict(color='black', size=8)\n",
    "))\n",
    "\n",
    "# Add outside points\n",
    "fig.add_trace(go.Scatter(\n",
    "    x=X_outside,\n",
    "    y=Y_outside,\n",
    "    mode='markers',\n",
    "    name='Outside Points',\n",
    "    marker=dict(\n",
    "        color='white',\n",
    "        size=8,\n",
    "        line=dict(color='black', width=1)\n",
    "    )\n",
    "))\n",
    "\n",
    "# Add intersection points\n",
    "fig.add_trace(go.Scatter(\n",
    "    x=intersections_x,\n",
    "    y=intersections_y,\n",
    "    mode='markers',\n",
    "    name='Intersections',\n",
    "    marker=dict(color='green', size=5, symbol='circle')\n",
    "))\n",
    "\n",
    "# Calculate normals at intersection points\n",
    "normal_length = 0.5  # Shorter arrows\n",
    "normals_start_x = intersections_x\n",
    "normals_start_y = intersections_y\n",
    "normals_end_x = []\n",
    "normals_end_y = []\n",
    "\n",
    "for x, y in zip(intersections_x, intersections_y):\n",
    "    # Normalize vector from center to intersection point and point inward\n",
    "    norm = np.sqrt(x**2 + y**2)\n",
    "    nx = -x/norm  # Negative for inward direction\n",
    "    ny = -y/norm  # Negative for inward direction\n",
    "    \n",
    "    # Calculate end point\n",
    "    normals_end_x.append(x + nx * normal_length)\n",
    "    normals_end_y.append(y + ny * normal_length)\n",
    "\n",
    "# Add normal vectors as arrows\n",
    "for i in range(len(normals_start_x)):\n",
    "    fig.add_trace(go.Scatter(\n",
    "        x=[normals_start_x[i], normals_end_x[i]],\n",
    "        y=[normals_start_y[i], normals_end_y[i]],\n",
    "        mode='lines',  # Remove markers\n",
    "        name='Normal' if i == 0 else None,\n",
    "        line=dict(color='red', width=2),  # Thinner lines\n",
    "        showlegend=(i == 0)\n",
    "    ))\n",
    "\n",
    "# # Calculate normals at intersection points\n",
    "# normal_length = 0.5  # Length of normal vectors to display\n",
    "# normals_start_x = intersections_x\n",
    "# normals_start_y = intersections_y\n",
    "# normals_end_x = []\n",
    "# normals_end_y = []\n",
    "\n",
    "# for x, y in zip(intersections_x, intersections_y):\n",
    "#     # Normalize vector from center to intersection point\n",
    "#     norm = np.sqrt(x**2 + y**2)\n",
    "#     nx = x/norm\n",
    "#     ny = y/norm\n",
    "    \n",
    "#     # Calculate end point\n",
    "#     normals_end_x.append(x + nx * normal_length)\n",
    "#     normals_end_y.append(y + ny * normal_length)\n",
    "\n",
    "# # Add normal vectors as arrows\n",
    "# for i in range(len(normals_start_x)):\n",
    "#     fig.add_trace(go.Scatter(\n",
    "#         x=[normals_start_x[i], normals_end_x[i]],\n",
    "#         y=[normals_start_y[i], normals_end_y[i]],\n",
    "#         mode='lines+markers',\n",
    "#         name='Normal' if i == 0 else None,  # Only show legend once\n",
    "#         line=dict(color='red', width=2),\n",
    "#         marker=dict(size=0),  # Hide markers\n",
    "#         showlegend=(i == 0)  # Only show in legend once\n",
    "#     ))\n",
    "\n",
    "# Update layout\n",
    "# fig.update_layout(\n",
    "#     title='Circle and Grid',\n",
    "#     xaxis=dict(range=[-3.5, 3.5], title='x',),\n",
    "#     yaxis=dict(range=[-3.5, 3.5], title='y', scaleanchor='x', scaleratio=1),\n",
    "#     showlegend=True,\n",
    "#     # plot_bgcolor='white'\n",
    "# )\n",
    "\n",
    "fig.update_layout(\n",
    "    # title='Circle and Grid',\n",
    "    width=600,  # Fixed width\n",
    "    height=600,  # Equal height for 1:1 aspect ratio\n",
    "    xaxis=dict(\n",
    "        range=[-3.5, 3.5],\n",
    "        title='x',\n",
    "        constrain='domain'  # Constrain to exact range\n",
    "    ),\n",
    "    yaxis=dict(\n",
    "        range=[-3.5, 3.5],\n",
    "        title='y',\n",
    "        scaleanchor='x',\n",
    "        scaleratio=1,\n",
    "        constrain='domain'  # Constrain to exact range\n",
    "    ),\n",
    "    showlegend=True,\n",
    "    # plot_bgcolor='white'\n",
    ")\n",
    "\n",
    "fig.show()"
   ]
  },
  {
   "cell_type": "code",
   "execution_count": null,
   "metadata": {},
   "outputs": [],
   "source": [
    "import numpy as np\n",
    "import matplotlib.pyplot as plt\n",
    "from matplotlib.patches import Circle\n",
    "\n",
    "# Setup\n",
    "fig, ax = plt.subplots(figsize=(8, 8))\n",
    "ax.set_aspect('equal')\n",
    "ax.grid(True)\n",
    "\n",
    "# Draw circle\n",
    "circle = Circle((0, 0), 2.5, fill=False, color='blue')\n",
    "ax.add_patch(circle)\n",
    "\n",
    "# Create grid points\n",
    "x_grid = np.arange(-3, 4)\n",
    "y_grid = np.arange(-3, 4)\n",
    "X, Y = np.meshgrid(x_grid, y_grid)\n",
    "\n",
    "# Separate inside/outside points\n",
    "inside_mask = X**2 + Y**2 <= 2.5**2\n",
    "X_inside = X[inside_mask]\n",
    "Y_inside = Y[inside_mask]\n",
    "X_outside = X[~inside_mask]\n",
    "Y_outside = Y[~inside_mask]\n",
    "\n",
    "# Plot grid points\n",
    "ax.scatter(X_inside, Y_inside, color='black', s=50, label='Inside Points')\n",
    "ax.scatter(X_outside, Y_outside, color='white', s=50, \n",
    "          edgecolor='black', label='Outside Points')\n",
    "\n",
    "# Find and plot intersection points\n",
    "intersections_x = []\n",
    "intersections_y = []\n",
    "\n",
    "# Vertical line intersections\n",
    "for x in x_grid:\n",
    "    if abs(x) <= 2.5:\n",
    "        y = np.sqrt(2.5**2 - x**2)\n",
    "        intersections_x.extend([x, x])\n",
    "        intersections_y.extend([y, -y])\n",
    "\n",
    "# Horizontal line intersections\n",
    "for y in y_grid:\n",
    "    if abs(y) <= 2.5:\n",
    "        x = np.sqrt(2.5**2 - y**2)\n",
    "        intersections_x.extend([x, -x])\n",
    "        intersections_y.extend([y, y])\n",
    "\n",
    "# Plot intersection points\n",
    "ax.scatter(intersections_x, intersections_y, color='green', \n",
    "          s=50, label='Intersections')\n",
    "\n",
    "# Plot normal vectors\n",
    "normal_length = 0.25\n",
    "for x, y in zip(intersections_x, intersections_y):\n",
    "    norm = np.sqrt(x**2 + y**2)\n",
    "    nx = -x/norm\n",
    "    ny = -y/norm\n",
    "    ax.arrow(x, y, nx * normal_length, ny * normal_length,\n",
    "            head_width=0.05, head_length=0.05, fc='red', ec='red',\n",
    "            length_includes_head=True)\n",
    "\n",
    "# Set limits and labels\n",
    "ax.set_xlim(-3.5, 3.5)\n",
    "ax.set_ylim(-3.5, 3.5)\n",
    "ax.set_xlabel('x')\n",
    "ax.set_ylabel('y')\n",
    "ax.set_title('Circle and Grid')\n",
    "ax.legend()\n",
    "\n",
    "plt.show()"
   ]
  },
  {
   "cell_type": "code",
   "execution_count": 5,
   "metadata": {},
   "outputs": [],
   "source": [
    "def circle_function(x: float, y: float, r: float = 2.5) -> float:\n",
    "    \"\"\"Calculates the distance from the point `(x, y)` to the center\n",
    "    of the circle `(0, 0)` with radius `r`.\n",
    "\n",
    "    Args:\n",
    "        x (float): x coordinate of the point\n",
    "        y (float): y coordinate of the point\n",
    "        r (float, optional): Radius of the circle. Defaults to 2.5.\n",
    "\n",
    "    Returns:\n",
    "        float: Distance from the point `(x, y)` to the center\n",
    "    of the circle `(0, 0)` with radius `r`\n",
    "    \"\"\"\n",
    "    return r - math.sqrt(x**2 + y * y**2)"
   ]
  },
  {
   "cell_type": "code",
   "execution_count": null,
   "metadata": {},
   "outputs": [],
   "source": []
  }
 ],
 "metadata": {
  "kernelspec": {
   "display_name": "blog",
   "language": "python",
   "name": "python3"
  },
  "language_info": {
   "codemirror_mode": {
    "name": "ipython",
    "version": 3
   },
   "file_extension": ".py",
   "mimetype": "text/x-python",
   "name": "python",
   "nbconvert_exporter": "python",
   "pygments_lexer": "ipython3",
   "version": "3.11.10"
  }
 },
 "nbformat": 4,
 "nbformat_minor": 2
}
